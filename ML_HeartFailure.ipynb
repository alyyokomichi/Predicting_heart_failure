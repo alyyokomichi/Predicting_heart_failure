{
  "nbformat": 4,
  "nbformat_minor": 0,
  "metadata": {
    "colab": {
      "name": "ML_HeartFailure.ipynb",
      "provenance": [],
      "authorship_tag": "ABX9TyOiyNUpF/r5HIb92ttYU55f",
      "include_colab_link": true
    },
    "kernelspec": {
      "name": "python3",
      "display_name": "Python 3"
    },
    "language_info": {
      "name": "python"
    }
  },
  "cells": [
    {
      "cell_type": "markdown",
      "metadata": {
        "id": "view-in-github",
        "colab_type": "text"
      },
      "source": [
        "<a href=\"https://colab.research.google.com/github/alyyokomichi/Predicting_heart_failure/blob/main/ML_HeartFailure.ipynb\" target=\"_parent\"><img src=\"https://colab.research.google.com/assets/colab-badge.svg\" alt=\"Open In Colab\"/></a>"
      ]
    },
    {
      "cell_type": "markdown",
      "metadata": {
        "id": "GH5tL6hGevJy"
      },
      "source": [
        "<font color=blue size=7>**Heart Failure Prediction**</font>\n",
        "\n",
        "*by Anna Laura Yuri Yokomichi*\n",
        "\n",
        "***\n",
        "Dataset used in this work was obtained from Kaggle, produced by Davide Chicco and Giuseppe Jurman. Article \"Machine learning can predict heart failure patient survival with serum creatinine and ejection fraction alone\" published in BMC Medical Informatics and Decision Making, 20, 16 (2020)."
      ]
    },
    {
      "cell_type": "markdown",
      "metadata": {
        "id": "ZoO5yRVjfUX1"
      },
      "source": [
        "# 1 Introduction\n",
        "\n",
        "Heart failure is a common event caused by Cardiovascular diseases (CVDs) and this dataset contains 12 features that can be used to predict mortality by heart failure.\n",
        "\n",
        "Most cardiovascular diseases can be prevented by addressing behavioural risk factors such as tobacco use, unhealthy diet and obesity, physical inactivity and harmful use of alcohol using population-wide strategies.\n",
        "\n",
        "People with cardiovascular disease or who are at high cardiovascular risk (due to the presence of one or more risk factors such as hypertension, diabetes, hyperlipidaemia or already established disease) need early detection and management wherein a machine learning model can be of great help."
      ]
    },
    {
      "cell_type": "markdown",
      "metadata": {
        "id": "WiNlXyBBkK8c"
      },
      "source": [
        "# 2 Objective\n",
        "\n",
        "Analyze the dataset and use machine learning model for predicting mortality caused by Heart Failure."
      ]
    },
    {
      "cell_type": "markdown",
      "metadata": {
        "id": "7PWQd9q3kvpQ"
      },
      "source": [
        "# 3 Method\n",
        "\n",
        "Pandas, Numpay, Matplotlib, Seaborn libraries were used for data analysis and graphing.\n",
        "\n",
        "Cross Validate and hyperparameter optimization were used with machine learning model to predicting mortality caused by Heart Failure."
      ]
    },
    {
      "cell_type": "markdown",
      "metadata": {
        "id": "09fHnLSwnQBu"
      },
      "source": [
        "# 4 Analysis"
      ]
    },
    {
      "cell_type": "markdown",
      "metadata": {
        "id": "JVR8twTcnmha"
      },
      "source": [
        "## 4.1 Importing libriries and reading data"
      ]
    },
    {
      "cell_type": "code",
      "metadata": {
        "id": "O-0B6t61ePuH"
      },
      "source": [
        "import pandas as pd\n",
        "import numpy as np\n",
        "import matplotlib.pyplot as plt\n",
        "import seaborn as sns"
      ],
      "execution_count": 1,
      "outputs": []
    },
    {
      "cell_type": "code",
      "metadata": {
        "colab": {
          "base_uri": "https://localhost:8080/",
          "height": 379
        },
        "id": "4iLymwRon_9Q",
        "outputId": "9da445e2-b034-40af-e453-5d0235559ce1"
      },
      "source": [
        "df = pd.read_csv('heart_failure_clinical_records_dataset.csv', sep=',')\n",
        "df.head(10)"
      ],
      "execution_count": 2,
      "outputs": [
        {
          "output_type": "execute_result",
          "data": {
            "text/html": [
              "<div>\n",
              "<style scoped>\n",
              "    .dataframe tbody tr th:only-of-type {\n",
              "        vertical-align: middle;\n",
              "    }\n",
              "\n",
              "    .dataframe tbody tr th {\n",
              "        vertical-align: top;\n",
              "    }\n",
              "\n",
              "    .dataframe thead th {\n",
              "        text-align: right;\n",
              "    }\n",
              "</style>\n",
              "<table border=\"1\" class=\"dataframe\">\n",
              "  <thead>\n",
              "    <tr style=\"text-align: right;\">\n",
              "      <th></th>\n",
              "      <th>age</th>\n",
              "      <th>anaemia</th>\n",
              "      <th>creatinine_phosphokinase</th>\n",
              "      <th>diabetes</th>\n",
              "      <th>ejection_fraction</th>\n",
              "      <th>high_blood_pressure</th>\n",
              "      <th>platelets</th>\n",
              "      <th>serum_creatinine</th>\n",
              "      <th>serum_sodium</th>\n",
              "      <th>sex</th>\n",
              "      <th>smoking</th>\n",
              "      <th>time</th>\n",
              "      <th>DEATH_EVENT</th>\n",
              "    </tr>\n",
              "  </thead>\n",
              "  <tbody>\n",
              "    <tr>\n",
              "      <th>0</th>\n",
              "      <td>75.0</td>\n",
              "      <td>0</td>\n",
              "      <td>582</td>\n",
              "      <td>0</td>\n",
              "      <td>20</td>\n",
              "      <td>1</td>\n",
              "      <td>265000.00</td>\n",
              "      <td>1.9</td>\n",
              "      <td>130</td>\n",
              "      <td>1</td>\n",
              "      <td>0</td>\n",
              "      <td>4</td>\n",
              "      <td>1</td>\n",
              "    </tr>\n",
              "    <tr>\n",
              "      <th>1</th>\n",
              "      <td>55.0</td>\n",
              "      <td>0</td>\n",
              "      <td>7861</td>\n",
              "      <td>0</td>\n",
              "      <td>38</td>\n",
              "      <td>0</td>\n",
              "      <td>263358.03</td>\n",
              "      <td>1.1</td>\n",
              "      <td>136</td>\n",
              "      <td>1</td>\n",
              "      <td>0</td>\n",
              "      <td>6</td>\n",
              "      <td>1</td>\n",
              "    </tr>\n",
              "    <tr>\n",
              "      <th>2</th>\n",
              "      <td>65.0</td>\n",
              "      <td>0</td>\n",
              "      <td>146</td>\n",
              "      <td>0</td>\n",
              "      <td>20</td>\n",
              "      <td>0</td>\n",
              "      <td>162000.00</td>\n",
              "      <td>1.3</td>\n",
              "      <td>129</td>\n",
              "      <td>1</td>\n",
              "      <td>1</td>\n",
              "      <td>7</td>\n",
              "      <td>1</td>\n",
              "    </tr>\n",
              "    <tr>\n",
              "      <th>3</th>\n",
              "      <td>50.0</td>\n",
              "      <td>1</td>\n",
              "      <td>111</td>\n",
              "      <td>0</td>\n",
              "      <td>20</td>\n",
              "      <td>0</td>\n",
              "      <td>210000.00</td>\n",
              "      <td>1.9</td>\n",
              "      <td>137</td>\n",
              "      <td>1</td>\n",
              "      <td>0</td>\n",
              "      <td>7</td>\n",
              "      <td>1</td>\n",
              "    </tr>\n",
              "    <tr>\n",
              "      <th>4</th>\n",
              "      <td>65.0</td>\n",
              "      <td>1</td>\n",
              "      <td>160</td>\n",
              "      <td>1</td>\n",
              "      <td>20</td>\n",
              "      <td>0</td>\n",
              "      <td>327000.00</td>\n",
              "      <td>2.7</td>\n",
              "      <td>116</td>\n",
              "      <td>0</td>\n",
              "      <td>0</td>\n",
              "      <td>8</td>\n",
              "      <td>1</td>\n",
              "    </tr>\n",
              "    <tr>\n",
              "      <th>5</th>\n",
              "      <td>90.0</td>\n",
              "      <td>1</td>\n",
              "      <td>47</td>\n",
              "      <td>0</td>\n",
              "      <td>40</td>\n",
              "      <td>1</td>\n",
              "      <td>204000.00</td>\n",
              "      <td>2.1</td>\n",
              "      <td>132</td>\n",
              "      <td>1</td>\n",
              "      <td>1</td>\n",
              "      <td>8</td>\n",
              "      <td>1</td>\n",
              "    </tr>\n",
              "    <tr>\n",
              "      <th>6</th>\n",
              "      <td>75.0</td>\n",
              "      <td>1</td>\n",
              "      <td>246</td>\n",
              "      <td>0</td>\n",
              "      <td>15</td>\n",
              "      <td>0</td>\n",
              "      <td>127000.00</td>\n",
              "      <td>1.2</td>\n",
              "      <td>137</td>\n",
              "      <td>1</td>\n",
              "      <td>0</td>\n",
              "      <td>10</td>\n",
              "      <td>1</td>\n",
              "    </tr>\n",
              "    <tr>\n",
              "      <th>7</th>\n",
              "      <td>60.0</td>\n",
              "      <td>1</td>\n",
              "      <td>315</td>\n",
              "      <td>1</td>\n",
              "      <td>60</td>\n",
              "      <td>0</td>\n",
              "      <td>454000.00</td>\n",
              "      <td>1.1</td>\n",
              "      <td>131</td>\n",
              "      <td>1</td>\n",
              "      <td>1</td>\n",
              "      <td>10</td>\n",
              "      <td>1</td>\n",
              "    </tr>\n",
              "    <tr>\n",
              "      <th>8</th>\n",
              "      <td>65.0</td>\n",
              "      <td>0</td>\n",
              "      <td>157</td>\n",
              "      <td>0</td>\n",
              "      <td>65</td>\n",
              "      <td>0</td>\n",
              "      <td>263358.03</td>\n",
              "      <td>1.5</td>\n",
              "      <td>138</td>\n",
              "      <td>0</td>\n",
              "      <td>0</td>\n",
              "      <td>10</td>\n",
              "      <td>1</td>\n",
              "    </tr>\n",
              "    <tr>\n",
              "      <th>9</th>\n",
              "      <td>80.0</td>\n",
              "      <td>1</td>\n",
              "      <td>123</td>\n",
              "      <td>0</td>\n",
              "      <td>35</td>\n",
              "      <td>1</td>\n",
              "      <td>388000.00</td>\n",
              "      <td>9.4</td>\n",
              "      <td>133</td>\n",
              "      <td>1</td>\n",
              "      <td>1</td>\n",
              "      <td>10</td>\n",
              "      <td>1</td>\n",
              "    </tr>\n",
              "  </tbody>\n",
              "</table>\n",
              "</div>"
            ],
            "text/plain": [
              "    age  anaemia  creatinine_phosphokinase  ...  smoking  time  DEATH_EVENT\n",
              "0  75.0        0                       582  ...        0     4            1\n",
              "1  55.0        0                      7861  ...        0     6            1\n",
              "2  65.0        0                       146  ...        1     7            1\n",
              "3  50.0        1                       111  ...        0     7            1\n",
              "4  65.0        1                       160  ...        0     8            1\n",
              "5  90.0        1                        47  ...        1     8            1\n",
              "6  75.0        1                       246  ...        0    10            1\n",
              "7  60.0        1                       315  ...        1    10            1\n",
              "8  65.0        0                       157  ...        0    10            1\n",
              "9  80.0        1                       123  ...        1    10            1\n",
              "\n",
              "[10 rows x 13 columns]"
            ]
          },
          "metadata": {
            "tags": []
          },
          "execution_count": 2
        }
      ]
    },
    {
      "cell_type": "markdown",
      "metadata": {
        "id": "o0bX6wIerJwt"
      },
      "source": [
        "## 4.2 Exploring the data"
      ]
    },
    {
      "cell_type": "code",
      "metadata": {
        "colab": {
          "base_uri": "https://localhost:8080/"
        },
        "id": "nXaSfIg9oZLj",
        "outputId": "95527277-00fc-46af-ad6a-dcf0b2f707f8"
      },
      "source": [
        "# Checking null variables\n",
        "df.info()"
      ],
      "execution_count": 3,
      "outputs": [
        {
          "output_type": "stream",
          "text": [
            "<class 'pandas.core.frame.DataFrame'>\n",
            "RangeIndex: 299 entries, 0 to 298\n",
            "Data columns (total 13 columns):\n",
            " #   Column                    Non-Null Count  Dtype  \n",
            "---  ------                    --------------  -----  \n",
            " 0   age                       299 non-null    float64\n",
            " 1   anaemia                   299 non-null    int64  \n",
            " 2   creatinine_phosphokinase  299 non-null    int64  \n",
            " 3   diabetes                  299 non-null    int64  \n",
            " 4   ejection_fraction         299 non-null    int64  \n",
            " 5   high_blood_pressure       299 non-null    int64  \n",
            " 6   platelets                 299 non-null    float64\n",
            " 7   serum_creatinine          299 non-null    float64\n",
            " 8   serum_sodium              299 non-null    int64  \n",
            " 9   sex                       299 non-null    int64  \n",
            " 10  smoking                   299 non-null    int64  \n",
            " 11  time                      299 non-null    int64  \n",
            " 12  DEATH_EVENT               299 non-null    int64  \n",
            "dtypes: float64(3), int64(10)\n",
            "memory usage: 30.5 KB\n"
          ],
          "name": "stdout"
        }
      ]
    },
    {
      "cell_type": "code",
      "metadata": {
        "colab": {
          "base_uri": "https://localhost:8080/",
          "height": 763
        },
        "id": "SnJF7iF8q1hf",
        "outputId": "8797d217-fd7d-45ba-ca06-71233b9dcc3a"
      },
      "source": [
        "# Histogram of some features\n",
        "\n",
        "import matplotlib.gridspec as gridspec\n",
        "\n",
        "fig = plt.figure(figsize = (19, 15), constrained_layout=True)\n",
        "spec = gridspec.GridSpec(ncols=4, nrows=2, figure=fig)\n",
        "\n",
        "# age\n",
        "f_ax1 = fig.add_subplot(spec[0, 0])\n",
        "f_ax1.set_title('Age', fontsize= 16)\n",
        "f_ax1.set_xlabel(\"Years\", fontsize=16)\n",
        "f_ax1.hist(df['age'])\n",
        "f_ax1.tick_params(labelsize=12)\n",
        "\n",
        "# creatinine_phosphokinase\n",
        "f_ax1 = fig.add_subplot(spec[0, 1])\n",
        "f_ax1.set_title('Level of CPK enzyme', fontsize= 16)\n",
        "f_ax1.set_xlabel(\"mcg/mL\", fontsize=16)\n",
        "f_ax1.hist(df['creatinine_phosphokinase'])\n",
        "f_ax1.tick_params(labelsize=12)\n",
        "\n",
        "# ejection_fraction\n",
        "f_ax1 = fig.add_subplot(spec[0, 2])\n",
        "f_ax1.set_title('Ejection fraction of blood', fontsize= 16)\n",
        "f_ax1.set_xlabel(\"%\", fontsize=16)\n",
        "f_ax1.hist(df['ejection_fraction'])\n",
        "f_ax1.tick_params(labelsize=12)\n",
        "\n",
        "# platelets\n",
        "f_ax1 = fig.add_subplot(spec[0, 3])\n",
        "f_ax1.set_title('Platelets', fontsize= 16)\n",
        "f_ax1.set_xlabel(\"kiloplatelets/mL\", fontsize=16)\n",
        "f_ax1.hist(df['platelets'])\n",
        "f_ax1.tick_params(labelsize=12)\n",
        "\n",
        "# serum_creatinine\n",
        "f_ax1 = fig.add_subplot(spec[1, 0])\n",
        "f_ax1.set_title('Level of serum creatinine', fontsize= 16)\n",
        "f_ax1.set_xlabel(\"mg/dL\", fontsize=16)\n",
        "f_ax1.hist(df['serum_creatinine'])\n",
        "f_ax1.tick_params(labelsize=12)\n",
        "\n",
        "# serum_sodium\n",
        "f_ax1 = fig.add_subplot(spec[1, 1])\n",
        "f_ax1.set_title('Level of serum sodium', fontsize= 16)\n",
        "f_ax1.set_xlabel(\"mEq/L\", fontsize=16)\n",
        "f_ax1.hist(df['serum_sodium'])\n",
        "f_ax1.tick_params(labelsize=12)\n",
        "\n",
        "# time\n",
        "f_ax1 = fig.add_subplot(spec[1, 2])\n",
        "f_ax1.set_title('Follow-up days', fontsize= 16)\n",
        "f_ax1.set_xlabel(\"days\", fontsize=16)\n",
        "f_ax1.hist(df['time'])\n",
        "f_ax1.tick_params(labelsize=12)\n",
        "\n",
        "plt.show()"
      ],
      "execution_count": 4,
      "outputs": [
        {
          "output_type": "display_data",
          "data": {
            "image/png": "[encoded data removed]",
            "text/plain": [
              "<Figure size 1368x1080 with 7 Axes>"
            ]
          },
          "metadata": {
            "tags": [],
            "needs_background": "light"
          }
        }
      ]
    },
    {
      "cell_type": "code",
      "metadata": {
        "colab": {
          "base_uri": "https://localhost:8080/",
          "height": 624
        },
        "id": "jHrFRrD02gwo",
        "outputId": "6a7e9ff1-b019-4af0-bf97-5887f122a06e"
      },
      "source": [
        "# Correlation between variables\n",
        "matrix_c = df.corr()\n",
        "plt.figure(figsize=(12, 8))\n",
        "sns.heatmap(matrix_c, annot=True, fmt='.1f')"
      ],
      "execution_count": 5,
      "outputs": [
        {
          "output_type": "execute_result",
          "data": {
            "text/plain": [
              "<matplotlib.axes._subplots.AxesSubplot at 0x7f35d5aed4d0>"
            ]
          },
          "metadata": {
            "tags": []
          },
          "execution_count": 5
        },
        {
          "output_type": "display_data",
          "data": {
            "image/png": "[encoded data removed]",
            "text/plain": [
              "<Figure size 864x576 with 2 Axes>"
            ]
          },
          "metadata": {
            "tags": [],
            "needs_background": "light"
          }
        }
      ]
    },
    {
      "cell_type": "code",
      "metadata": {
        "colab": {
          "base_uri": "https://localhost:8080/",
          "height": 460
        },
        "id": "evV7GsqD48jL",
        "outputId": "01f4e490-1280-4660-b85d-2cd23596546f"
      },
      "source": [
        "# Relation between serum creatinine level and ejection fraction\n",
        "\n",
        "plt.figure(figsize=(10, 7))\n",
        "sns.scatterplot (x=\"serum_creatinine\", y='ejection_fraction', hue='DEATH_EVENT', data=df)"
      ],
      "execution_count": 6,
      "outputs": [
        {
          "output_type": "execute_result",
          "data": {
            "text/plain": [
              "<matplotlib.axes._subplots.AxesSubplot at 0x7f35c8893210>"
            ]
          },
          "metadata": {
            "tags": []
          },
          "execution_count": 6
        },
        {
          "output_type": "display_data",
          "data": {
            "image/png": "[encoded data removed]",
            "text/plain": [
              "<Figure size 720x504 with 1 Axes>"
            ]
          },
          "metadata": {
            "tags": [],
            "needs_background": "light"
          }
        }
      ]
    },
    {
      "cell_type": "code",
      "metadata": {
        "colab": {
          "base_uri": "https://localhost:8080/",
          "height": 459
        },
        "id": "xb89XTemsIhz",
        "outputId": "239453e0-05df-41e4-c266-d2ed1e23686a"
      },
      "source": [
        "# Relation between age and follow-up days\n",
        "\n",
        "plt.figure(figsize=(10, 7))\n",
        "sns.scatterplot (x=\"age\", y='time', hue='DEATH_EVENT', data=df)"
      ],
      "execution_count": 7,
      "outputs": [
        {
          "output_type": "execute_result",
          "data": {
            "text/plain": [
              "<matplotlib.axes._subplots.AxesSubplot at 0x7f35c8893bd0>"
            ]
          },
          "metadata": {
            "tags": []
          },
          "execution_count": 7
        },
        {
          "output_type": "display_data",
          "data": {
            "image/png": "[encoded data removed]",
            "text/plain": [
              "<Figure size 720x504 with 1 Axes>"
            ]
          },
          "metadata": {
            "tags": [],
            "needs_background": "light"
          }
        }
      ]
    },
    {
      "cell_type": "markdown",
      "metadata": {
        "id": "LH7UNwCQk6lf"
      },
      "source": [
        "# 5 Predicting"
      ]
    },
    {
      "cell_type": "markdown",
      "metadata": {
        "id": "-VNyTphWlW4c"
      },
      "source": [
        "## 5.1 Separanting variables _ 1"
      ]
    },
    {
      "cell_type": "code",
      "metadata": {
        "id": "jqQcqFysB2YF"
      },
      "source": [
        "from sklearn.model_selection import train_test_split\n",
        "from numpy import random\n",
        "\n",
        "SEED = 1234\n",
        "np.random.seed(SEED)\n",
        "\n",
        "df_v2 = df.drop(columns=['DEATH_EVENT'])\n",
        "\n",
        "# Separating train, test and validation variables\n",
        "x_train_test, x_validation, y_train_test, y_validation = train_test_split(df_v2, df['DEATH_EVENT'], test_size=0.5, shuffle=True, stratify = df['DEATH_EVENT'])\n",
        "x_train, x_test, y_train, y_test = train_test_split(x_train_test, y_train_test, test_size=0.25, shuffle=True, stratify=y_train_test)"
      ],
      "execution_count": 8,
      "outputs": []
    },
    {
      "cell_type": "markdown",
      "metadata": {
        "id": "ug0rSzGunhnD"
      },
      "source": [
        "## 5.2 Testing models"
      ]
    },
    {
      "cell_type": "code",
      "metadata": {
        "colab": {
          "base_uri": "https://localhost:8080/"
        },
        "id": "x6XNNzbGnl6v",
        "outputId": "69976310-b719-44f1-dbc2-4118f435fa69"
      },
      "source": [
        "#Simple classifier\n",
        "from sklearn.dummy import DummyClassifier\n",
        "\n",
        "random.seed(SEED)\n",
        "\n",
        "classifier = DummyClassifier()\n",
        "classifier.fit(x_train, y_train)\n",
        "print('DummyClassifier score: %.2f%%'%(classifier.score(x_test, y_test)*100))"
      ],
      "execution_count": 9,
      "outputs": [
        {
          "output_type": "stream",
          "text": [
            "DummyClassifier score: 52.63%\n"
          ],
          "name": "stdout"
        },
        {
          "output_type": "stream",
          "text": [
            "/usr/local/lib/python3.7/dist-packages/sklearn/dummy.py:132: FutureWarning: The default value of strategy will change from stratified to prior in 0.24.\n",
            "  \"stratified to prior in 0.24.\", FutureWarning)\n"
          ],
          "name": "stderr"
        }
      ]
    },
    {
      "cell_type": "code",
      "metadata": {
        "colab": {
          "base_uri": "https://localhost:8080/"
        },
        "id": "aFsnhf_xpvyT",
        "outputId": "1bfc04ff-b9e9-4045-b3fa-d9fdc8dd7b07"
      },
      "source": [
        "# AdaBoostClassifier\n",
        "from sklearn.ensemble import AdaBoostClassifier\n",
        "\n",
        "random.seed(SEED)\n",
        "\n",
        "classifier = AdaBoostClassifier()\n",
        "classifier.fit(x_train, y_train)\n",
        "print('AdaBoostClassifier score: %.2f%%'%(classifier.score(x_test, y_test)*100))"
      ],
      "execution_count": 10,
      "outputs": [
        {
          "output_type": "stream",
          "text": [
            "AdaBoostClassifier score: 84.21%\n"
          ],
          "name": "stdout"
        }
      ]
    },
    {
      "cell_type": "code",
      "metadata": {
        "colab": {
          "base_uri": "https://localhost:8080/"
        },
        "id": "gW0cRS8OqYgj",
        "outputId": "09a47596-675e-4d82-b9f3-d393e8f487ee"
      },
      "source": [
        "# RandomFlorestClassifier\n",
        "from sklearn.ensemble import RandomForestClassifier\n",
        "\n",
        "random.seed(SEED)\n",
        "\n",
        "classifier = RandomForestClassifier()\n",
        "classifier.fit(x_train, y_train)\n",
        "print('RandomFlorestClassifier score: %.2f%%'%(classifier.score(x_test, y_test)*100))"
      ],
      "execution_count": 11,
      "outputs": [
        {
          "output_type": "stream",
          "text": [
            "RandomFlorestClassifier score: 84.21%\n"
          ],
          "name": "stdout"
        }
      ]
    },
    {
      "cell_type": "code",
      "metadata": {
        "id": "mhhLrmhvrPqn"
      },
      "source": [
        "# Change scale for Support Vector Machines\n",
        "from sklearn.preprocessing import StandardScaler\n",
        "scaler = StandardScaler()\n",
        "scaler.fit(x_train)\n",
        "x_train_t = scaler.transform(x_train)\n",
        "x_test_t = scaler.transform(x_test)"
      ],
      "execution_count": 12,
      "outputs": []
    },
    {
      "cell_type": "code",
      "metadata": {
        "colab": {
          "base_uri": "https://localhost:8080/"
        },
        "id": "e-MLs2jpuIc8",
        "outputId": "d18c5349-0212-495b-a733-617f20822327"
      },
      "source": [
        "# LinearSCV\n",
        "from sklearn.svm import LinearSVC\n",
        "\n",
        "random.seed(SEED)\n",
        "\n",
        "classifier = LinearSVC()\n",
        "classifier.fit(x_train_t, y_train)\n",
        "print('LinearSVC score: %.2f%%'%(classifier.score(x_test_t, y_test)*100))"
      ],
      "execution_count": 13,
      "outputs": [
        {
          "output_type": "stream",
          "text": [
            "LinearSVC score: 73.68%\n"
          ],
          "name": "stdout"
        }
      ]
    },
    {
      "cell_type": "markdown",
      "metadata": {
        "id": "VD_r0dRowBoR"
      },
      "source": [
        "## 5.3 Cross Validation\n",
        "\n",
        "Models with high score were AdaBoostClassifier and RandomForestClassifier"
      ]
    },
    {
      "cell_type": "code",
      "metadata": {
        "id": "ara9DXK87bNl"
      },
      "source": [
        "def show_results(results):\n",
        "  m = results['test_score'].mean() * 100\n",
        "  d = results['test_score'].std() * 100\n",
        "  print(\"Mean accuracy %.2f%%\" % m)\n",
        "  print(\"Interval [%.2f, %.2f]\" % (m - 2 * d, m + 2 * d))"
      ],
      "execution_count": 14,
      "outputs": []
    },
    {
      "cell_type": "code",
      "metadata": {
        "colab": {
          "base_uri": "https://localhost:8080/"
        },
        "id": "nvvlyVXq8MMV",
        "outputId": "6b77f314-ab62-4565-e5b1-e17f6fc79b5c"
      },
      "source": [
        "from sklearn.model_selection import cross_validate\n",
        "\n",
        "np.random.seed(SEED)\n",
        "\n",
        "model = DummyClassifier()\n",
        "results = cross_validate(model, x_train_test, y_train_test, cv = 10, return_train_score=False)\n",
        "show_results(results)"
      ],
      "execution_count": 15,
      "outputs": [
        {
          "output_type": "stream",
          "text": [
            "Mean accuracy 62.38%\n",
            "Interval [23.53, 101.23]\n"
          ],
          "name": "stdout"
        },
        {
          "output_type": "stream",
          "text": [
            "/usr/local/lib/python3.7/dist-packages/sklearn/dummy.py:132: FutureWarning: The default value of strategy will change from stratified to prior in 0.24.\n",
            "  \"stratified to prior in 0.24.\", FutureWarning)\n"
          ],
          "name": "stderr"
        }
      ]
    },
    {
      "cell_type": "code",
      "metadata": {
        "colab": {
          "base_uri": "https://localhost:8080/"
        },
        "id": "7HjGEZiL812G",
        "outputId": "83c00c44-2aae-4b86-8ecd-8cabae65a4d5"
      },
      "source": [
        "np.random.seed(SEED)\n",
        "\n",
        "model = RandomForestClassifier()\n",
        "results = cross_validate(model, x_train_test, y_train_test, cv = 10, return_train_score=False)\n",
        "show_results(results)"
      ],
      "execution_count": 16,
      "outputs": [
        {
          "output_type": "stream",
          "text": [
            "Mean accuracy 86.57%\n",
            "Interval [78.12, 95.02]\n"
          ],
          "name": "stdout"
        }
      ]
    },
    {
      "cell_type": "code",
      "metadata": {
        "colab": {
          "base_uri": "https://localhost:8080/"
        },
        "id": "uDjZGaId87rm",
        "outputId": "a7b1831f-e2d6-4ab7-b5c4-f692d07e2164"
      },
      "source": [
        "np.random.seed(SEED)\n",
        "\n",
        "model = AdaBoostClassifier()\n",
        "results = cross_validate(model, x_train_test, y_train_test, cv = 10, return_train_score=False)\n",
        "show_results(results)"
      ],
      "execution_count": 17,
      "outputs": [
        {
          "output_type": "stream",
          "text": [
            "Mean accuracy 85.29%\n",
            "Interval [73.79, 96.78]\n"
          ],
          "name": "stdout"
        }
      ]
    },
    {
      "cell_type": "markdown",
      "metadata": {
        "id": "G7Z5gSQimmET"
      },
      "source": [
        "## 5.4 Selecting best features"
      ]
    },
    {
      "cell_type": "code",
      "metadata": {
        "colab": {
          "base_uri": "https://localhost:8080/"
        },
        "id": "MCSIigY4m0O9",
        "outputId": "683af00b-0dcb-46b2-bdfe-293065e63521"
      },
      "source": [
        "from sklearn.feature_selection import RFECV\n",
        "\n",
        "random.seed(SEED)\n",
        "\n",
        "model = RandomForestClassifier()\n",
        "model.fit(x_train, y_train)\n",
        "selector_rfecv = RFECV(estimator = model, cv=5 , step=1, scoring='accuracy')\n",
        "selector_rfecv.fit(x_train, y_train)\n",
        "train_rfecv = selector_rfecv.transform(x_train)\n",
        "test_rfecv = selector_rfecv.transform(x_test)\n",
        "model.fit(train_rfecv, y_train)\n",
        "selected_features = x_train.columns[selector_rfecv.support_]\n",
        "print('Classification result: %.2f%%'%(model.score(test_rfecv, y_test)*100))\n",
        "print(f'Ideal number of features: {selector_rfecv.n_features_}')\n",
        "print(f'Features: {selected_features}')"
      ],
      "execution_count": 18,
      "outputs": [
        {
          "output_type": "stream",
          "text": [
            "Classification result: 86.84%\n",
            "Ideal number of features: 7\n",
            "Features: Index(['age', 'creatinine_phosphokinase', 'ejection_fraction', 'platelets',\n",
            "       'serum_creatinine', 'serum_sodium', 'time'],\n",
            "      dtype='object')\n"
          ],
          "name": "stdout"
        }
      ]
    },
    {
      "cell_type": "code",
      "metadata": {
        "colab": {
          "base_uri": "https://localhost:8080/",
          "height": 419
        },
        "id": "8bZBzb9-nH3e",
        "outputId": "459ee897-2dac-4151-e702-2f90b8983e37"
      },
      "source": [
        "# Remove features of dataframe\n",
        "df_v3 = df_v2[['age', 'creatinine_phosphokinase', 'ejection_fraction', 'platelets', 'serum_creatinine', 'serum_sodium', 'time']]\n",
        "df_v3"
      ],
      "execution_count": 19,
      "outputs": [
        {
          "output_type": "execute_result",
          "data": {
            "text/html": [
              "<div>\n",
              "<style scoped>\n",
              "    .dataframe tbody tr th:only-of-type {\n",
              "        vertical-align: middle;\n",
              "    }\n",
              "\n",
              "    .dataframe tbody tr th {\n",
              "        vertical-align: top;\n",
              "    }\n",
              "\n",
              "    .dataframe thead th {\n",
              "        text-align: right;\n",
              "    }\n",
              "</style>\n",
              "<table border=\"1\" class=\"dataframe\">\n",
              "  <thead>\n",
              "    <tr style=\"text-align: right;\">\n",
              "      <th></th>\n",
              "      <th>age</th>\n",
              "      <th>creatinine_phosphokinase</th>\n",
              "      <th>ejection_fraction</th>\n",
              "      <th>platelets</th>\n",
              "      <th>serum_creatinine</th>\n",
              "      <th>serum_sodium</th>\n",
              "      <th>time</th>\n",
              "    </tr>\n",
              "  </thead>\n",
              "  <tbody>\n",
              "    <tr>\n",
              "      <th>0</th>\n",
              "      <td>75.0</td>\n",
              "      <td>582</td>\n",
              "      <td>20</td>\n",
              "      <td>265000.00</td>\n",
              "      <td>1.9</td>\n",
              "      <td>130</td>\n",
              "      <td>4</td>\n",
              "    </tr>\n",
              "    <tr>\n",
              "      <th>1</th>\n",
              "      <td>55.0</td>\n",
              "      <td>7861</td>\n",
              "      <td>38</td>\n",
              "      <td>263358.03</td>\n",
              "      <td>1.1</td>\n",
              "      <td>136</td>\n",
              "      <td>6</td>\n",
              "    </tr>\n",
              "    <tr>\n",
              "      <th>2</th>\n",
              "      <td>65.0</td>\n",
              "      <td>146</td>\n",
              "      <td>20</td>\n",
              "      <td>162000.00</td>\n",
              "      <td>1.3</td>\n",
              "      <td>129</td>\n",
              "      <td>7</td>\n",
              "    </tr>\n",
              "    <tr>\n",
              "      <th>3</th>\n",
              "      <td>50.0</td>\n",
              "      <td>111</td>\n",
              "      <td>20</td>\n",
              "      <td>210000.00</td>\n",
              "      <td>1.9</td>\n",
              "      <td>137</td>\n",
              "      <td>7</td>\n",
              "    </tr>\n",
              "    <tr>\n",
              "      <th>4</th>\n",
              "      <td>65.0</td>\n",
              "      <td>160</td>\n",
              "      <td>20</td>\n",
              "      <td>327000.00</td>\n",
              "      <td>2.7</td>\n",
              "      <td>116</td>\n",
              "      <td>8</td>\n",
              "    </tr>\n",
              "    <tr>\n",
              "      <th>...</th>\n",
              "      <td>...</td>\n",
              "      <td>...</td>\n",
              "      <td>...</td>\n",
              "      <td>...</td>\n",
              "      <td>...</td>\n",
              "      <td>...</td>\n",
              "      <td>...</td>\n",
              "    </tr>\n",
              "    <tr>\n",
              "      <th>294</th>\n",
              "      <td>62.0</td>\n",
              "      <td>61</td>\n",
              "      <td>38</td>\n",
              "      <td>155000.00</td>\n",
              "      <td>1.1</td>\n",
              "      <td>143</td>\n",
              "      <td>270</td>\n",
              "    </tr>\n",
              "    <tr>\n",
              "      <th>295</th>\n",
              "      <td>55.0</td>\n",
              "      <td>1820</td>\n",
              "      <td>38</td>\n",
              "      <td>270000.00</td>\n",
              "      <td>1.2</td>\n",
              "      <td>139</td>\n",
              "      <td>271</td>\n",
              "    </tr>\n",
              "    <tr>\n",
              "      <th>296</th>\n",
              "      <td>45.0</td>\n",
              "      <td>2060</td>\n",
              "      <td>60</td>\n",
              "      <td>742000.00</td>\n",
              "      <td>0.8</td>\n",
              "      <td>138</td>\n",
              "      <td>278</td>\n",
              "    </tr>\n",
              "    <tr>\n",
              "      <th>297</th>\n",
              "      <td>45.0</td>\n",
              "      <td>2413</td>\n",
              "      <td>38</td>\n",
              "      <td>140000.00</td>\n",
              "      <td>1.4</td>\n",
              "      <td>140</td>\n",
              "      <td>280</td>\n",
              "    </tr>\n",
              "    <tr>\n",
              "      <th>298</th>\n",
              "      <td>50.0</td>\n",
              "      <td>196</td>\n",
              "      <td>45</td>\n",
              "      <td>395000.00</td>\n",
              "      <td>1.6</td>\n",
              "      <td>136</td>\n",
              "      <td>285</td>\n",
              "    </tr>\n",
              "  </tbody>\n",
              "</table>\n",
              "<p>299 rows × 7 columns</p>\n",
              "</div>"
            ],
            "text/plain": [
              "      age  creatinine_phosphokinase  ...  serum_sodium  time\n",
              "0    75.0                       582  ...           130     4\n",
              "1    55.0                      7861  ...           136     6\n",
              "2    65.0                       146  ...           129     7\n",
              "3    50.0                       111  ...           137     7\n",
              "4    65.0                       160  ...           116     8\n",
              "..    ...                       ...  ...           ...   ...\n",
              "294  62.0                        61  ...           143   270\n",
              "295  55.0                      1820  ...           139   271\n",
              "296  45.0                      2060  ...           138   278\n",
              "297  45.0                      2413  ...           140   280\n",
              "298  50.0                       196  ...           136   285\n",
              "\n",
              "[299 rows x 7 columns]"
            ]
          },
          "metadata": {
            "tags": []
          },
          "execution_count": 19
        }
      ]
    },
    {
      "cell_type": "code",
      "metadata": {
        "id": "gozpJLYv0oFw"
      },
      "source": [
        "# Selecting new variables for train, test and validation\n",
        "np.random.seed(SEED)\n",
        "\n",
        "x_train_test, x_validation, y_train_test, y_validation = train_test_split(df_v3, df['DEATH_EVENT'], test_size=0.5, shuffle=True, stratify = df['DEATH_EVENT'])\n",
        "x_train, x_test, y_train, y_test = train_test_split(x_train_test, y_train_test, test_size=0.25, shuffle=True, stratify=y_train_test)"
      ],
      "execution_count": 20,
      "outputs": []
    },
    {
      "cell_type": "markdown",
      "metadata": {
        "id": "QfHu_5zb1Jki"
      },
      "source": [
        "## 5.5 Optimizing machine learning model"
      ]
    },
    {
      "cell_type": "code",
      "metadata": {
        "colab": {
          "base_uri": "https://localhost:8080/"
        },
        "id": "g7DfJF2C048P",
        "outputId": "7a096d2a-96d5-4325-c5f2-88b1f076154a"
      },
      "source": [
        "from sklearn.model_selection import RandomizedSearchCV\n",
        "from sklearn.model_selection import KFold\n",
        "from scipy.stats import randint\n",
        "\n",
        "np.random.seed(SEED)\n",
        "\n",
        "parameters = {\n",
        "    'n_estimators': [10, 30, 50, 70, 90, 100],\n",
        "    'max_depth': [3, 4, 5, 6],\n",
        "    'min_samples_split': [32, 64, 128],\n",
        "    'min_samples_leaf': [32, 64, 128],\n",
        "    'bootstrap': [True, False],\n",
        "    'criterion': ['gini', 'entropy']\n",
        "}\n",
        "cv = KFold(n_splits=10, shuffle=True)\n",
        "search = RandomizedSearchCV(RandomForestClassifier(), parameters, n_iter=100, cv=cv, random_state=SEED)\n",
        "search.fit(x_train, y_train)"
      ],
      "execution_count": 32,
      "outputs": [
        {
          "output_type": "execute_result",
          "data": {
            "text/plain": [
              "RandomizedSearchCV(cv=KFold(n_splits=10, random_state=None, shuffle=True),\n",
              "                   error_score=nan,\n",
              "                   estimator=RandomForestClassifier(bootstrap=True,\n",
              "                                                    ccp_alpha=0.0,\n",
              "                                                    class_weight=None,\n",
              "                                                    criterion='gini',\n",
              "                                                    max_depth=None,\n",
              "                                                    max_features='auto',\n",
              "                                                    max_leaf_nodes=None,\n",
              "                                                    max_samples=None,\n",
              "                                                    min_impurity_decrease=0.0,\n",
              "                                                    min_impurity_split=None,\n",
              "                                                    min_samples_leaf=1,\n",
              "                                                    min_samples_split=2,\n",
              "                                                    min_...\n",
              "                                                    warm_start=False),\n",
              "                   iid='deprecated', n_iter=100, n_jobs=None,\n",
              "                   param_distributions={'bootstrap': [True, False],\n",
              "                                        'criterion': ['gini', 'entropy'],\n",
              "                                        'max_depth': [3, 4, 5, 6],\n",
              "                                        'min_samples_leaf': [32, 64, 128],\n",
              "                                        'min_samples_split': [32, 64, 128],\n",
              "                                        'n_estimators': [10, 30, 50, 70, 90,\n",
              "                                                         100]},\n",
              "                   pre_dispatch='2*n_jobs', random_state=1234, refit=True,\n",
              "                   return_train_score=False, scoring=None, verbose=0)"
            ]
          },
          "metadata": {
            "tags": []
          },
          "execution_count": 32
        }
      ]
    },
    {
      "cell_type": "code",
      "metadata": {
        "colab": {
          "base_uri": "https://localhost:8080/"
        },
        "id": "gHDMwc1Q_QD0",
        "outputId": "47c0755a-9b69-429e-d7c5-1b024513ef8f"
      },
      "source": [
        "from sklearn.model_selection import cross_val_score\n",
        "scores = cross_val_score(search, x_train_test, y_train_test, cv=cv)\n",
        "m = scores.mean() * 100\n",
        "d = scores.std() * 100\n",
        "print(\"Mean accuracy %.2f%%\" % m)\n",
        "print(\"Interval [%.2f, %.2f]\" % (m - 2 * d, m + 2 * d))"
      ],
      "execution_count": 33,
      "outputs": [
        {
          "output_type": "stream",
          "text": [
            "Mean accuracy 80.57%\n",
            "Interval [63.36, 97.78]\n"
          ],
          "name": "stdout"
        }
      ]
    },
    {
      "cell_type": "code",
      "metadata": {
        "colab": {
          "base_uri": "https://localhost:8080/",
          "height": 796
        },
        "id": "gIaxnOk8EJ0c",
        "outputId": "6eacd99b-98ea-4046-9f83-b75908ec7a2c"
      },
      "source": [
        "results = pd.DataFrame(search.cv_results_)\n",
        "results"
      ],
      "execution_count": 34,
      "outputs": [
        {
          "output_type": "execute_result",
          "data": {
            "text/html": [
              "<div>\n",
              "<style scoped>\n",
              "    .dataframe tbody tr th:only-of-type {\n",
              "        vertical-align: middle;\n",
              "    }\n",
              "\n",
              "    .dataframe tbody tr th {\n",
              "        vertical-align: top;\n",
              "    }\n",
              "\n",
              "    .dataframe thead th {\n",
              "        text-align: right;\n",
              "    }\n",
              "</style>\n",
              "<table border=\"1\" class=\"dataframe\">\n",
              "  <thead>\n",
              "    <tr style=\"text-align: right;\">\n",
              "      <th></th>\n",
              "      <th>mean_fit_time</th>\n",
              "      <th>std_fit_time</th>\n",
              "      <th>mean_score_time</th>\n",
              "      <th>std_score_time</th>\n",
              "      <th>param_n_estimators</th>\n",
              "      <th>param_min_samples_split</th>\n",
              "      <th>param_min_samples_leaf</th>\n",
              "      <th>param_max_depth</th>\n",
              "      <th>param_criterion</th>\n",
              "      <th>param_bootstrap</th>\n",
              "      <th>params</th>\n",
              "      <th>split0_test_score</th>\n",
              "      <th>split1_test_score</th>\n",
              "      <th>split2_test_score</th>\n",
              "      <th>split3_test_score</th>\n",
              "      <th>split4_test_score</th>\n",
              "      <th>split5_test_score</th>\n",
              "      <th>split6_test_score</th>\n",
              "      <th>split7_test_score</th>\n",
              "      <th>split8_test_score</th>\n",
              "      <th>split9_test_score</th>\n",
              "      <th>mean_test_score</th>\n",
              "      <th>std_test_score</th>\n",
              "      <th>rank_test_score</th>\n",
              "    </tr>\n",
              "  </thead>\n",
              "  <tbody>\n",
              "    <tr>\n",
              "      <th>0</th>\n",
              "      <td>0.053196</td>\n",
              "      <td>0.002984</td>\n",
              "      <td>0.007553</td>\n",
              "      <td>0.001382</td>\n",
              "      <td>50</td>\n",
              "      <td>32</td>\n",
              "      <td>128</td>\n",
              "      <td>3</td>\n",
              "      <td>gini</td>\n",
              "      <td>False</td>\n",
              "      <td>{'n_estimators': 50, 'min_samples_split': 32, ...</td>\n",
              "      <td>0.666667</td>\n",
              "      <td>0.727273</td>\n",
              "      <td>0.727273</td>\n",
              "      <td>0.636364</td>\n",
              "      <td>0.727273</td>\n",
              "      <td>0.636364</td>\n",
              "      <td>0.545455</td>\n",
              "      <td>0.727273</td>\n",
              "      <td>0.818182</td>\n",
              "      <td>0.545455</td>\n",
              "      <td>0.675758</td>\n",
              "      <td>0.082489</td>\n",
              "      <td>14</td>\n",
              "    </tr>\n",
              "    <tr>\n",
              "      <th>1</th>\n",
              "      <td>0.016529</td>\n",
              "      <td>0.000841</td>\n",
              "      <td>0.002747</td>\n",
              "      <td>0.000107</td>\n",
              "      <td>10</td>\n",
              "      <td>32</td>\n",
              "      <td>64</td>\n",
              "      <td>3</td>\n",
              "      <td>entropy</td>\n",
              "      <td>True</td>\n",
              "      <td>{'n_estimators': 10, 'min_samples_split': 32, ...</td>\n",
              "      <td>0.666667</td>\n",
              "      <td>0.727273</td>\n",
              "      <td>0.727273</td>\n",
              "      <td>0.636364</td>\n",
              "      <td>0.727273</td>\n",
              "      <td>0.636364</td>\n",
              "      <td>0.545455</td>\n",
              "      <td>0.727273</td>\n",
              "      <td>0.818182</td>\n",
              "      <td>0.545455</td>\n",
              "      <td>0.675758</td>\n",
              "      <td>0.082489</td>\n",
              "      <td>14</td>\n",
              "    </tr>\n",
              "    <tr>\n",
              "      <th>2</th>\n",
              "      <td>0.102879</td>\n",
              "      <td>0.003074</td>\n",
              "      <td>0.008986</td>\n",
              "      <td>0.000213</td>\n",
              "      <td>70</td>\n",
              "      <td>32</td>\n",
              "      <td>64</td>\n",
              "      <td>3</td>\n",
              "      <td>gini</td>\n",
              "      <td>True</td>\n",
              "      <td>{'n_estimators': 70, 'min_samples_split': 32, ...</td>\n",
              "      <td>0.666667</td>\n",
              "      <td>0.727273</td>\n",
              "      <td>0.727273</td>\n",
              "      <td>0.636364</td>\n",
              "      <td>0.727273</td>\n",
              "      <td>0.636364</td>\n",
              "      <td>0.545455</td>\n",
              "      <td>0.727273</td>\n",
              "      <td>0.818182</td>\n",
              "      <td>0.545455</td>\n",
              "      <td>0.675758</td>\n",
              "      <td>0.082489</td>\n",
              "      <td>14</td>\n",
              "    </tr>\n",
              "    <tr>\n",
              "      <th>3</th>\n",
              "      <td>0.093581</td>\n",
              "      <td>0.003122</td>\n",
              "      <td>0.012638</td>\n",
              "      <td>0.002943</td>\n",
              "      <td>90</td>\n",
              "      <td>128</td>\n",
              "      <td>64</td>\n",
              "      <td>6</td>\n",
              "      <td>entropy</td>\n",
              "      <td>False</td>\n",
              "      <td>{'n_estimators': 90, 'min_samples_split': 128,...</td>\n",
              "      <td>0.666667</td>\n",
              "      <td>0.727273</td>\n",
              "      <td>0.727273</td>\n",
              "      <td>0.636364</td>\n",
              "      <td>0.727273</td>\n",
              "      <td>0.636364</td>\n",
              "      <td>0.545455</td>\n",
              "      <td>0.727273</td>\n",
              "      <td>0.818182</td>\n",
              "      <td>0.545455</td>\n",
              "      <td>0.675758</td>\n",
              "      <td>0.082489</td>\n",
              "      <td>14</td>\n",
              "    </tr>\n",
              "    <tr>\n",
              "      <th>4</th>\n",
              "      <td>0.099501</td>\n",
              "      <td>0.006103</td>\n",
              "      <td>0.011118</td>\n",
              "      <td>0.000360</td>\n",
              "      <td>90</td>\n",
              "      <td>64</td>\n",
              "      <td>32</td>\n",
              "      <td>3</td>\n",
              "      <td>entropy</td>\n",
              "      <td>False</td>\n",
              "      <td>{'n_estimators': 90, 'min_samples_split': 64, ...</td>\n",
              "      <td>0.666667</td>\n",
              "      <td>1.000000</td>\n",
              "      <td>0.818182</td>\n",
              "      <td>0.727273</td>\n",
              "      <td>0.909091</td>\n",
              "      <td>0.636364</td>\n",
              "      <td>0.727273</td>\n",
              "      <td>0.636364</td>\n",
              "      <td>0.909091</td>\n",
              "      <td>0.636364</td>\n",
              "      <td>0.766667</td>\n",
              "      <td>0.127164</td>\n",
              "      <td>4</td>\n",
              "    </tr>\n",
              "    <tr>\n",
              "      <th>...</th>\n",
              "      <td>...</td>\n",
              "      <td>...</td>\n",
              "      <td>...</td>\n",
              "      <td>...</td>\n",
              "      <td>...</td>\n",
              "      <td>...</td>\n",
              "      <td>...</td>\n",
              "      <td>...</td>\n",
              "      <td>...</td>\n",
              "      <td>...</td>\n",
              "      <td>...</td>\n",
              "      <td>...</td>\n",
              "      <td>...</td>\n",
              "      <td>...</td>\n",
              "      <td>...</td>\n",
              "      <td>...</td>\n",
              "      <td>...</td>\n",
              "      <td>...</td>\n",
              "      <td>...</td>\n",
              "      <td>...</td>\n",
              "      <td>...</td>\n",
              "      <td>...</td>\n",
              "      <td>...</td>\n",
              "      <td>...</td>\n",
              "    </tr>\n",
              "    <tr>\n",
              "      <th>95</th>\n",
              "      <td>0.106412</td>\n",
              "      <td>0.009300</td>\n",
              "      <td>0.010302</td>\n",
              "      <td>0.001964</td>\n",
              "      <td>70</td>\n",
              "      <td>128</td>\n",
              "      <td>128</td>\n",
              "      <td>3</td>\n",
              "      <td>entropy</td>\n",
              "      <td>True</td>\n",
              "      <td>{'n_estimators': 70, 'min_samples_split': 128,...</td>\n",
              "      <td>0.666667</td>\n",
              "      <td>0.727273</td>\n",
              "      <td>0.727273</td>\n",
              "      <td>0.636364</td>\n",
              "      <td>0.727273</td>\n",
              "      <td>0.636364</td>\n",
              "      <td>0.545455</td>\n",
              "      <td>0.727273</td>\n",
              "      <td>0.818182</td>\n",
              "      <td>0.545455</td>\n",
              "      <td>0.675758</td>\n",
              "      <td>0.082489</td>\n",
              "      <td>14</td>\n",
              "    </tr>\n",
              "    <tr>\n",
              "      <th>96</th>\n",
              "      <td>0.053929</td>\n",
              "      <td>0.002187</td>\n",
              "      <td>0.008093</td>\n",
              "      <td>0.001542</td>\n",
              "      <td>50</td>\n",
              "      <td>32</td>\n",
              "      <td>128</td>\n",
              "      <td>5</td>\n",
              "      <td>gini</td>\n",
              "      <td>False</td>\n",
              "      <td>{'n_estimators': 50, 'min_samples_split': 32, ...</td>\n",
              "      <td>0.666667</td>\n",
              "      <td>0.727273</td>\n",
              "      <td>0.727273</td>\n",
              "      <td>0.636364</td>\n",
              "      <td>0.727273</td>\n",
              "      <td>0.636364</td>\n",
              "      <td>0.545455</td>\n",
              "      <td>0.727273</td>\n",
              "      <td>0.818182</td>\n",
              "      <td>0.545455</td>\n",
              "      <td>0.675758</td>\n",
              "      <td>0.082489</td>\n",
              "      <td>14</td>\n",
              "    </tr>\n",
              "    <tr>\n",
              "      <th>97</th>\n",
              "      <td>0.076259</td>\n",
              "      <td>0.004395</td>\n",
              "      <td>0.007595</td>\n",
              "      <td>0.001346</td>\n",
              "      <td>50</td>\n",
              "      <td>64</td>\n",
              "      <td>128</td>\n",
              "      <td>6</td>\n",
              "      <td>entropy</td>\n",
              "      <td>True</td>\n",
              "      <td>{'n_estimators': 50, 'min_samples_split': 64, ...</td>\n",
              "      <td>0.666667</td>\n",
              "      <td>0.727273</td>\n",
              "      <td>0.727273</td>\n",
              "      <td>0.636364</td>\n",
              "      <td>0.727273</td>\n",
              "      <td>0.636364</td>\n",
              "      <td>0.545455</td>\n",
              "      <td>0.727273</td>\n",
              "      <td>0.818182</td>\n",
              "      <td>0.545455</td>\n",
              "      <td>0.675758</td>\n",
              "      <td>0.082489</td>\n",
              "      <td>14</td>\n",
              "    </tr>\n",
              "    <tr>\n",
              "      <th>98</th>\n",
              "      <td>0.076895</td>\n",
              "      <td>0.006147</td>\n",
              "      <td>0.007008</td>\n",
              "      <td>0.000366</td>\n",
              "      <td>50</td>\n",
              "      <td>128</td>\n",
              "      <td>64</td>\n",
              "      <td>6</td>\n",
              "      <td>gini</td>\n",
              "      <td>True</td>\n",
              "      <td>{'n_estimators': 50, 'min_samples_split': 128,...</td>\n",
              "      <td>0.666667</td>\n",
              "      <td>0.727273</td>\n",
              "      <td>0.727273</td>\n",
              "      <td>0.636364</td>\n",
              "      <td>0.727273</td>\n",
              "      <td>0.636364</td>\n",
              "      <td>0.545455</td>\n",
              "      <td>0.727273</td>\n",
              "      <td>0.818182</td>\n",
              "      <td>0.545455</td>\n",
              "      <td>0.675758</td>\n",
              "      <td>0.082489</td>\n",
              "      <td>14</td>\n",
              "    </tr>\n",
              "    <tr>\n",
              "      <th>99</th>\n",
              "      <td>0.104832</td>\n",
              "      <td>0.004953</td>\n",
              "      <td>0.012532</td>\n",
              "      <td>0.000666</td>\n",
              "      <td>100</td>\n",
              "      <td>32</td>\n",
              "      <td>64</td>\n",
              "      <td>4</td>\n",
              "      <td>entropy</td>\n",
              "      <td>False</td>\n",
              "      <td>{'n_estimators': 100, 'min_samples_split': 32,...</td>\n",
              "      <td>0.666667</td>\n",
              "      <td>0.727273</td>\n",
              "      <td>0.727273</td>\n",
              "      <td>0.636364</td>\n",
              "      <td>0.727273</td>\n",
              "      <td>0.636364</td>\n",
              "      <td>0.545455</td>\n",
              "      <td>0.727273</td>\n",
              "      <td>0.818182</td>\n",
              "      <td>0.545455</td>\n",
              "      <td>0.675758</td>\n",
              "      <td>0.082489</td>\n",
              "      <td>14</td>\n",
              "    </tr>\n",
              "  </tbody>\n",
              "</table>\n",
              "<p>100 rows × 24 columns</p>\n",
              "</div>"
            ],
            "text/plain": [
              "    mean_fit_time  std_fit_time  ...  std_test_score  rank_test_score\n",
              "0        0.053196      0.002984  ...        0.082489               14\n",
              "1        0.016529      0.000841  ...        0.082489               14\n",
              "2        0.102879      0.003074  ...        0.082489               14\n",
              "3        0.093581      0.003122  ...        0.082489               14\n",
              "4        0.099501      0.006103  ...        0.127164                4\n",
              "..            ...           ...  ...             ...              ...\n",
              "95       0.106412      0.009300  ...        0.082489               14\n",
              "96       0.053929      0.002187  ...        0.082489               14\n",
              "97       0.076259      0.004395  ...        0.082489               14\n",
              "98       0.076895      0.006147  ...        0.082489               14\n",
              "99       0.104832      0.004953  ...        0.082489               14\n",
              "\n",
              "[100 rows x 24 columns]"
            ]
          },
          "metadata": {
            "tags": []
          },
          "execution_count": 34
        }
      ]
    },
    {
      "cell_type": "code",
      "metadata": {
        "colab": {
          "base_uri": "https://localhost:8080/"
        },
        "id": "uFnnkcLLAuSz",
        "outputId": "c9df8231-163c-40e3-9dca-426530bc4b58"
      },
      "source": [
        "best = search.best_estimator_\n",
        "print(best)"
      ],
      "execution_count": 36,
      "outputs": [
        {
          "output_type": "stream",
          "text": [
            "RandomForestClassifier(bootstrap=False, ccp_alpha=0.0, class_weight=None,\n",
            "                       criterion='gini', max_depth=3, max_features='auto',\n",
            "                       max_leaf_nodes=None, max_samples=None,\n",
            "                       min_impurity_decrease=0.0, min_impurity_split=None,\n",
            "                       min_samples_leaf=32, min_samples_split=64,\n",
            "                       min_weight_fraction_leaf=0.0, n_estimators=70,\n",
            "                       n_jobs=None, oob_score=False, random_state=None,\n",
            "                       verbose=0, warm_start=False)\n"
          ],
          "name": "stdout"
        }
      ]
    },
    {
      "cell_type": "markdown",
      "metadata": {
        "id": "iGe9zTjVGGDv"
      },
      "source": [
        "## 5.6 Prediction"
      ]
    },
    {
      "cell_type": "code",
      "metadata": {
        "colab": {
          "base_uri": "https://localhost:8080/"
        },
        "id": "HiLxZ4mJGqOg",
        "outputId": "4b10e1bd-e1d4-4bf7-ccec-b7c89216b902"
      },
      "source": [
        "classifier = RandomForestClassifier(bootstrap=False, ccp_alpha=0.0, class_weight=None,\n",
        "                       criterion='gini', max_depth=3, max_features='auto',\n",
        "                       max_leaf_nodes=None, max_samples=None,\n",
        "                       min_impurity_decrease=0.0, min_impurity_split=None,\n",
        "                       min_samples_leaf=32, min_samples_split=64,\n",
        "                       min_weight_fraction_leaf=0.0, n_estimators=70,\n",
        "                       n_jobs=None, oob_score=False, random_state=None,\n",
        "                       verbose=0, warm_start=False)\n",
        "classifier.fit(x_train_test, y_train_test)"
      ],
      "execution_count": 37,
      "outputs": [
        {
          "output_type": "execute_result",
          "data": {
            "text/plain": [
              "RandomForestClassifier(bootstrap=False, ccp_alpha=0.0, class_weight=None,\n",
              "                       criterion='gini', max_depth=3, max_features='auto',\n",
              "                       max_leaf_nodes=None, max_samples=None,\n",
              "                       min_impurity_decrease=0.0, min_impurity_split=None,\n",
              "                       min_samples_leaf=32, min_samples_split=64,\n",
              "                       min_weight_fraction_leaf=0.0, n_estimators=70,\n",
              "                       n_jobs=None, oob_score=False, random_state=None,\n",
              "                       verbose=0, warm_start=False)"
            ]
          },
          "metadata": {
            "tags": []
          },
          "execution_count": 37
        }
      ]
    },
    {
      "cell_type": "code",
      "metadata": {
        "colab": {
          "base_uri": "https://localhost:8080/",
          "height": 649
        },
        "id": "1ovgYlFTHIkY",
        "outputId": "e980d905-7677-4b7d-db84-e374a6bbe38f"
      },
      "source": [
        "from sklearn.metrics import confusion_matrix\n",
        "\n",
        "matrix_c = confusion_matrix(y_validation, classifier.predict(x_validation))\n",
        "plt.figure(figsize=(10, 10))\n",
        "sns.set(font_scale=2)\n",
        "sns.heatmap(matrix_c, annot=True, fmt='d').set(xlabel='Predic', ylabel='Real')"
      ],
      "execution_count": 38,
      "outputs": [
        {
          "output_type": "execute_result",
          "data": {
            "text/plain": [
              "[Text(56.5, 0.5, 'Real'), Text(0.5, 56.5, 'Predic')]"
            ]
          },
          "metadata": {
            "tags": []
          },
          "execution_count": 38
        },
        {
          "output_type": "display_data",
          "data": {
            "image/png": "[encoded data removed]",
            "text/plain": [
              "<Figure size 720x720 with 2 Axes>"
            ]
          },
          "metadata": {
            "tags": []
          }
        }
      ]
    }
  ]
}